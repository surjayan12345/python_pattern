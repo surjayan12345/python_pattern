{
 "cells": [
  {
   "cell_type": "code",
   "execution_count": 11,
   "id": "0adfc044",
   "metadata": {},
   "outputs": [
    {
     "name": "stdout",
     "output_type": "stream",
     "text": [
      "102\n",
      "25\n",
      "out of stock\n",
      "20\n"
     ]
    }
   ],
   "source": [
    "item_number=[101,102,103,104]\n",
    "item_name=[\"milk\",\"cheese\",\"ghee\",\"bread\"]\n",
    "price=[42,50,500,40]\n",
    "stock=[10,20,15,16]\n",
    "n=int(input())\n",
    "m=int(input())\n",
    "for i in range(len(item_number)):\n",
    "    if n==item_number[i] and m<stock[i]:\n",
    "        print(m*price[i] , 'INR')\n",
    "        print(stock[i]-m)\n",
    "    elif n==item_number[i] and m>stock[i]:\n",
    "        print(\"out of stock\")\n",
    "        print(stock[i])\n"
   ]
  },
  {
   "cell_type": "code",
   "execution_count": 1,
   "id": "1dc83aa6",
   "metadata": {},
   "outputs": [
    {
     "name": "stdout",
     "output_type": "stream",
     "text": [
      "Enter rows:5\n",
      "Enter Cols:5\n",
      "*****\n",
      " *****\n",
      "  *****\n",
      "   *****\n",
      "    *****\n"
     ]
    }
   ],
   "source": [
    "#Printing Parallelogram Star Pattern\n",
    "\n",
    "#Step 1. Start\n",
    "#Step 2. Take number of rows input from the user and store it in any variable (‘rows’ in this case).\n",
    "#Step 3. Take number of column input from the user and store it in any variable (‘cols’ in this case).\n",
    "#Step 4. Run a loop ‘i’ number of times to iterate through all the rows which is Starting from i=0 to rows.\n",
    "#Step 5. Run a nested loop inside the main loop for printing spaces which is starting from j=1 to i+1.\n",
    "#Step 6. Run a nested loop inside the main loop for printing stars which is starting from j=0 to cols.\n",
    "#Step 7. Move to the next line by printing a new line using print() function.\n",
    "#Stop 8. Stop\n",
    "\n",
    "\n",
    "rows = int(input(\"Enter rows:\"))\n",
    "cols = int(input(\"Enter Cols:\"))\n",
    "\n",
    "for i in range(0, rows):\n",
    "    for j in range(1, i+1):\n",
    "        print(\" \", end=\"\")\n",
    "    for j in range(0, cols):\n",
    "        print(\"*\", end=\"\")\n",
    "    print()"
   ]
  },
  {
   "cell_type": "code",
   "execution_count": 2,
   "id": "1da009ac",
   "metadata": {},
   "outputs": [
    {
     "name": "stdout",
     "output_type": "stream",
     "text": [
      "Enter the Number: 7\n",
      "      *\n",
      "     ***\n",
      "    *****\n",
      "   *******\n",
      "  *********\n",
      " ***********\n",
      "*************\n"
     ]
    }
   ],
   "source": [
    "#Print Pyramid Star Pattern\n",
    "\n",
    "#Step 1. Start\n",
    "#Step 2. Take number of rows as input from the user and stored it into num.\n",
    "#Step 3. Run a loop ‘i’ number of times to iterate through all the rows which is Starting from i=0 to num. \n",
    "#Step 4. Run a nested loop inside the main loop for printing spaces which is starting from j=0 to num-i-1.\n",
    "#Step 5. Run a nested loop inside the main loop for printing stars which is starting from j=0 to i*2+1.\n",
    "#Step 6. Move to the next line by printing a new line using print() function.\n",
    "#Stop 10. Stop\n",
    "\n",
    "num = int(input(\"Enter the Number: \"))\n",
    "\n",
    "for i in range(0, num):\n",
    "    for j in range(0, num-i-1):\n",
    "        print(\" \", end=\"\")\n",
    "    for j in range(0, i*2+1):\n",
    "        print(\"*\", end=\"\")\n",
    "    print()"
   ]
  },
  {
   "cell_type": "code",
   "execution_count": 3,
   "id": "2f2a8cb1",
   "metadata": {},
   "outputs": [
    {
     "name": "stdout",
     "output_type": "stream",
     "text": [
      "Enter the Number: 5\n",
      "*********\n",
      " *******\n",
      "  *****\n",
      "   ***\n",
      "    *\n"
     ]
    }
   ],
   "source": [
    "#Inverted Pyramid Star Pattern\n",
    "\n",
    "#Step 1. Start\n",
    "#Step 2. Take number of rows as input from the user and stored it into num.\n",
    "#Step 3. Run a loop ‘i’ number of times to iterate through all the rows which is Starting from i=0 to num. \n",
    "#Step 4. Run a nested loop inside the main loop for printing spaces which is starting from j=0 to i.\n",
    "#Step 5. Run a nested loop inside the main loop for printing stars which is starting from j=i*2 to num*2+1.\n",
    "#Step 6. Move to the next line by printing a new line using print() function.\n",
    "#Stop 7. Stop\n",
    "\n",
    "num = int(input(\"Enter the Number: \"))\n",
    "\n",
    "for i in range(0, num):\n",
    "    for j in range(0, i):\n",
    "        print(\" \", end=\"\")\n",
    "    for j in range(i*2, num*2-1):\n",
    "        print(\"*\", end=\"\")\n",
    "    print()"
   ]
  },
  {
   "cell_type": "code",
   "execution_count": 4,
   "id": "802d25bb",
   "metadata": {},
   "outputs": [
    {
     "name": "stdout",
     "output_type": "stream",
     "text": [
      "Enter Number:6\n",
      "*\n",
      "**\n",
      "***\n",
      "****\n",
      "*****\n",
      "******\n"
     ]
    }
   ],
   "source": [
    "#Right Triangle Star Pattern\n",
    "\n",
    "#Step 1. Start\n",
    "#Step 2. Take number of rows as input from the user and stored it into num.\n",
    "#Step 3. Run a for loop starting from 0 to user entered num value.\n",
    "#Step 4. Inside for loop, Run a loop ‘i’ number of times to iterate through all the rows which starting from 0 to i+1.\n",
    "#Step 5. Print ‘*’ inside the nested loop to print ‘*’s in all the columns of a row.\n",
    "#Step 6. Move to the next line by printing a new line using print() function.\n",
    "#Stop 7. Stop\n",
    "\n",
    "num = int(input(\"Enter Number:\"))\n",
    "\n",
    "for i in range(0, num):\n",
    "    for j in range(0, i+1):\n",
    "        print(\"*\", end=\"\")\n",
    "    print()"
   ]
  },
  {
   "cell_type": "code",
   "execution_count": 6,
   "id": "dc6741c5",
   "metadata": {},
   "outputs": [
    {
     "name": "stdout",
     "output_type": "stream",
     "text": [
      "Enter the Number: 4\n",
      "6666\n",
      "555\n",
      "44\n",
      "3\n"
     ]
    }
   ],
   "source": [
    "#Inverted Incrementing Triangle Pattern\n",
    "\n",
    "#Step 1. Start\n",
    "#Step 2. Take number of rows as input from the user and stored it into num.\n",
    "#Step 3. Take a variable ‘count’ and initialize it as 0.\n",
    "#Step 4. Run a for loop starting from 0 to num value.\n",
    "#Step 5. Inside above for loop, increase count variable by i.\n",
    "#Step 6. Run a loop ‘i’ number of times to iterate through all the rows which is Starting from i=0 to num.\n",
    "#Step 7. Run a nested loop inside the main loop for printing spaces which is starting from j=0 to num-i.\n",
    "#Step 8. Print ‘count’ inside the nested loop for each row.\n",
    "#Step 9. Inside above Nested for loop, Decrease count variable by 1.\n",
    "#Step 10. Move to the next line by printing a new line using print() function.\n",
    "#Step 11. Stop\n",
    "\n",
    "num = int(input(\"Enter the Number: \"))\n",
    "\n",
    "count = 0\n",
    "for i in range(0, num):\n",
    "    count = count + i\n",
    "\n",
    "for i in range(0, num):\n",
    "    for j in range(0, num-i):\n",
    "        print(count, end=\"\")\n",
    "    count = count - 1\n",
    "    print()"
   ]
  },
  {
   "cell_type": "code",
   "execution_count": 8,
   "id": "840cfe30",
   "metadata": {},
   "outputs": [
    {
     "name": "stdout",
     "output_type": "stream",
     "text": [
      "Enter the Number: 4\n",
      "3\n",
      "45\n",
      "678\n",
      "9101112\n"
     ]
    }
   ],
   "source": [
    "#Print Basic double incrementing Triangle Pattern\n",
    "\n",
    "num = int(input(\"Enter the Number: \"))\n",
    "k = 3\n",
    "\n",
    "for i in range(0, num):\n",
    "    for j in range(0, i+1):\n",
    "        print(k, end=\"\")\n",
    "        k = k + 1\n",
    "    print()"
   ]
  },
  {
   "cell_type": "code",
   "execution_count": 9,
   "id": "0de3c9ce",
   "metadata": {},
   "outputs": [
    {
     "name": "stdout",
     "output_type": "stream",
     "text": [
      "Enter the Number: 5\n",
      "    *\n",
      "   **\n",
      "  ***\n",
      " ****\n",
      "*****\n",
      " ****\n",
      "  ***\n",
      "   **\n",
      "    *\n"
     ]
    }
   ],
   "source": [
    "#Inverted Half Diamond Star Pattern\n",
    "\n",
    "#Step 1. Start\n",
    "#Step 2. Take number of rows as input from the user and stored it into num.\n",
    "#Step 3. Run a loop ‘i’ number of times to iterate through all the rows which is Starting from i=0 to num. \n",
    "#Step 4. Run a nested loop inside the main loop for printing spaces which is starting from j=0 to num-i-1.\n",
    "#Step 5. Run a nested loop inside the main loop for printing stars which is starting from j=0 to i+1.\n",
    "#Step 6. Move to the next line by printing a new line using print() function.\n",
    "#Step 7. Run a loop ‘i’ number of times to iterate through all the rows which is Starting from i=1 to num. \n",
    "#Step 8. Run a nested loop inside the main loop for printing spaces which is starting from j=0 to i.\n",
    "#Step 9. Run a nested loop inside the main loop for printing stars which is starting from j=0 to num-i-1.\n",
    "#Stop 10. Move to the next line by printing a new line using print() function.\n",
    "#Step 11. Stop\n",
    "\n",
    "\n",
    "num = int(input(\"Enter the Number: \"))\n",
    "\n",
    "for i in range(0, num):\n",
    "    for j in range(0, num-i-1):\n",
    "        print(\" \", end=\"\")\n",
    "    for j in range(0, i+1):\n",
    "        print(\"*\",end=\"\")\n",
    "    print()\n",
    "\n",
    "for i in range(1, num):\n",
    "    for i in range(0, i):\n",
    "        print(\" \", end=\"\")\n",
    "    for j in range(0, num-i-1):\n",
    "        print(\"*\",end=\"\")\n",
    "    print()"
   ]
  },
  {
   "cell_type": "code",
   "execution_count": 10,
   "id": "afef7c4d",
   "metadata": {},
   "outputs": [
    {
     "name": "stdout",
     "output_type": "stream",
     "text": [
      "Enter the Number: 4\n",
      "3\n",
      "44\n",
      "555\n",
      "6666\n",
      "555\n",
      "44\n",
      "3\n",
      "\n"
     ]
    }
   ],
   "source": [
    "#Inverted Incrementing Diamond Pattern\n",
    "\n",
    "num = int(input(\"Enter the Number: \"))\n",
    "k = 3\n",
    "\n",
    "for i in range(0, num):\n",
    "    for j in range(0, i+1):\n",
    "        print(k, end=\"\")\n",
    "    k = k + 1\n",
    "    print()\n",
    "k = k - 2\n",
    "for i in range(0, num):\n",
    "    for j in range(0, num-i-1):\n",
    "        print(k, end=\"\")\n",
    "    k = k - 1\n",
    "    print()"
   ]
  },
  {
   "cell_type": "code",
   "execution_count": 11,
   "id": "545a5189",
   "metadata": {},
   "outputs": [
    {
     "name": "stdout",
     "output_type": "stream",
     "text": [
      "Enter the Number: 4\n",
      "   *\n",
      "  * *\n",
      " *   *\n",
      "*     *\n",
      "*******"
     ]
    }
   ],
   "source": [
    "#Hollow Pyramid Star Pattern\n",
    "\n",
    "#Step 1. Start\n",
    "#Step 2. Take number of rows as input from the user and stored it into num.\n",
    "#Step 3. Initialized a variable k to zero.\n",
    "#Step 4. Run a loop ‘i’ number of times to iterate through all the rows which is Starting from i=1 to num+1.\n",
    "#Step 5. Run a nested loop inside the main loop for printing spaces which is starting from j=i to num.\n",
    "#Step 6. Run a While untill k != (2 * i – 1) this condition is satisfied, Inside the while loop, Check if k == 0 or k == 2 * i – 2 then, print Stars for this pattern.\n",
    "#Step 7. Else if condition is not satisfied then, print spaces.\n",
    "#Step 8. Increase k by k + 1.\n",
    "#Step 9. Outside the while loop, k variable will re-initialized with zero.\n",
    "#Stop 10. Move to the next line by printing a new line using print() function.\n",
    "#Step 11. Run a for loop outside the main loop for printing stars which is starting from i=0 to 2 * num – 1.\n",
    "#Step 12. Stop\n",
    "\n",
    "\n",
    "num = int(input(\"Enter the Number: \"))\n",
    "k = 0\n",
    "for i in range(1, num+1):\n",
    "    for j in range(i, num):\n",
    "        print(\" \",end=\"\")\n",
    "    while k != (2 * i - 1):\n",
    "        if k == 0 or k == 2 * i - 2:\n",
    "            print(\"*\", end=\"\")\n",
    "        else:\n",
    "            print(\" \", end=\"\")\n",
    "        k = k+1\n",
    "    k = 0\n",
    "    print()\n",
    "\n",
    "for i in range(0, 2 * num - 1):\n",
    "    print(\"*\", end=\"\")"
   ]
  },
  {
   "cell_type": "code",
   "execution_count": null,
   "id": "5d5c6145",
   "metadata": {},
   "outputs": [],
   "source": []
  }
 ],
 "metadata": {
  "kernelspec": {
   "display_name": "Python 3",
   "language": "python",
   "name": "python3"
  },
  "language_info": {
   "codemirror_mode": {
    "name": "ipython",
    "version": 3
   },
   "file_extension": ".py",
   "mimetype": "text/x-python",
   "name": "python",
   "nbconvert_exporter": "python",
   "pygments_lexer": "ipython3",
   "version": "3.8.10"
  }
 },
 "nbformat": 4,
 "nbformat_minor": 5
}
